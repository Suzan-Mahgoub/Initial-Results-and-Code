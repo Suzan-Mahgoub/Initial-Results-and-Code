{
  "nbformat": 4,
  "nbformat_minor": 0,
  "metadata": {
    "colab": {
      "provenance": []
    },
    "kernelspec": {
      "name": "python3",
      "display_name": "Python 3"
    },
    "language_info": {
      "name": "python"
    }
  },
  "cells": [
    {
      "cell_type": "markdown",
      "source": [
        "STEP 1 – Load Your Grain + Weather Dataset"
      ],
      "metadata": {
        "id": "LBEdQwM6v9UX"
      }
    },
    {
      "cell_type": "code",
      "source": [
        "# STEP 1 – Load Grain + Weather Dataset\n",
        "import pandas as pd\n",
        "import numpy as np\n",
        "import matplotlib.pyplot as plt\n",
        "from sklearn.preprocessing import MinMaxScaler\n",
        "from sklearn.metrics import mean_squared_error\n",
        "from tensorflow.keras.models import Sequential\n",
        "from tensorflow.keras.layers import LSTM, Dense, Dropout\n",
        "from tensorflow.keras.callbacks import EarlyStopping\n",
        "import csv\n",
        "\n",
        "# Load grain export + weather data\n",
        "df = pd.read_csv(\"/content/corn_bay_lakes_with_weather_production.csv\")\n",
        "\n",
        "# Add grain week as cyclical signals\n",
        "df[\"GW_num\"] = df[\"grain_week\"].str.extract(\"GW(\\d+)\").astype(int)\n",
        "df[\"GW_sin\"] = np.sin(2 * np.pi * df[\"GW_num\"] / 52)\n",
        "df[\"GW_cos\"] = np.cos(2 * np.pi * df[\"GW_num\"] / 52)\n",
        "df[\"crop_year\"] = df[\"crop_year\"].astype(str)"
      ],
      "metadata": {
        "id": "o3BYlRTcyAV-"
      },
      "execution_count": 10,
      "outputs": []
    },
    {
      "cell_type": "markdown",
      "source": [
        "STEP 2 – Load & Prepare Production Data"
      ],
      "metadata": {
        "id": "doWffM5AwZzN"
      }
    },
    {
      "cell_type": "code",
      "source": [
        "with open(\"/content/3210001401-eng.csv\", \"r\") as f:\n",
        "    for i in range(20):\n",
        "        print(f\"{i}: {f.readline().strip()}\")"
      ],
      "metadata": {
        "colab": {
          "base_uri": "https://localhost:8080/"
        },
        "id": "Tou84-0t1TLf",
        "outputId": "75b08f29-9e93-4e6f-f804-cf7ad5b9637f"
      },
      "execution_count": 27,
      "outputs": [
        {
          "output_type": "stream",
          "name": "stdout",
          "text": [
            "0: ﻿\"Supply and disposition of corn (x 1,000) 1 2 3 4\"\n",
            "1: \"Frequency: Occasional Monthly\"\n",
            "2: \"Table: 32-10-0014-01 (formerly CANSIM 001-0042)\"\n",
            "3: \"Release date: 2025-02-07\"\n",
            "4: \"Geography: Canada, Province or territory\"\n",
            "5: \"\"\n",
            "6: \"\"\n",
            "7: \n",
            "8: \"Geography\",\"Canada 1\",,,,\n",
            "9: \"Supply and disposition of corn\",\"August 2023\",\"December 2023\",\"March 2024\",\"August 2024\",\"December 2024\"\n",
            "10: ,\"Metric tonnes\",,,,\n",
            "11: \"Total supplies\",\"19,511.9\",\"18,283.9\",\"19,062.1\",\"20,027.3\",\"17,934.8\"\n",
            "12: \"Total beginning stocks\",\"2,745.6\",\"1,627.5\",\"1,627.5\",\"1,627.5\",\"1,996.4\"\n",
            "13: \"Beginning stocks on farms\",\"1,584.4\",\"894.7\",\"894.7\",\"894.7\",\"1,037.5\"\n",
            "14: \"Beginning stocks in commercial positions\",\"1,161.2\",\"732.8\",\"732.8\",\"732.8\",\"959.0\"\n",
            "15: \"Production\",\"14,538.9\",\"15,420.9\",\"15,420.9\",\"15,420.9\",\"15,344.9\"\n",
            "16: \"Total disposition\",\"19,511.9\",\"18,283.9\",\"19,062.1\",\"20,027.3\",\"17,934.8\"\n",
            "17: \"Total exports 3\",\"2,860.5\",\"530.4\",\"713.5\",\"2,029.0\",\"788.7\"\n",
            "18: \"Total domestic disappearance\",\"15,023.9\",\"6,454.0\",\"10,081.5\",\"16,001.8\",\"5,828.8\"\n",
            "19: \"Human food and industrial use 5\",\"5,326.7\",\"1,889.9\",\"3,493.4\",\"5,998.9\",\"1,926.5\"\n"
          ]
        }
      ]
    },
    {
      "cell_type": "code",
      "source": [
        "prod_df = pd.read_csv(\"/content/3210001401-eng.csv\", skiprows=7)"
      ],
      "metadata": {
        "id": "ZtP1G1EM1fWA"
      },
      "execution_count": 28,
      "outputs": []
    },
    {
      "cell_type": "code",
      "source": [
        "prod_df = pd.read_csv(\"/content/3210001401-eng.csv\", skiprows=7)\n",
        "prod_df.columns = prod_df.columns.str.strip()\n",
        "\n",
        "# Confirm the column names\n",
        "print(\"✅ Columns found:\", prod_df.columns.tolist())"
      ],
      "metadata": {
        "colab": {
          "base_uri": "https://localhost:8080/"
        },
        "id": "SvpobRVG0sIf",
        "outputId": "31bfa961-2406-4035-ec3a-fab50644843d"
      },
      "execution_count": 29,
      "outputs": [
        {
          "output_type": "stream",
          "name": "stdout",
          "text": [
            "✅ Columns found: ['Geography', 'Canada 1', 'Unnamed: 2', 'Unnamed: 3', 'Unnamed: 4', 'Unnamed: 5']\n"
          ]
        }
      ]
    },
    {
      "cell_type": "code",
      "source": [
        "# Check if these column names exist now\n",
        "if all(col in prod_df.columns for col in [\"Crop year\", \"Geography\", \"Crop\", \"Production (tonnes)\"]):\n",
        "    filtered_prod = prod_df[\n",
        "        (prod_df[\"Geography\"].str.strip() == \"Ontario\") &\n",
        "        (prod_df[\"Crop\"].str.strip() == \"Corn for grain\")\n",
        "    ]\n",
        "\n",
        "    filtered_prod = filtered_prod[[\"Crop year\", \"Production (tonnes)\"]]\n",
        "    filtered_prod.columns = [\"crop_year\", \"production_volume\"]\n",
        "    filtered_prod[\"crop_year\"] = filtered_prod[\"crop_year\"].astype(str)\n",
        "    filtered_prod[\"production_volume\"] = (\n",
        "        filtered_prod[\"production_volume\"]\n",
        "        .astype(str)\n",
        "        .str.replace(\",\", \"\")\n",
        "        .astype(float)\n",
        "    )\n",
        "else:\n",
        "    print(\"❌ Column structure is still not right. Please check which row has headers.\")"
      ],
      "metadata": {
        "colab": {
          "base_uri": "https://localhost:8080/"
        },
        "id": "vjw5bC2z1pIP",
        "outputId": "12ca740a-a168-4ac1-be00-446c5e2f418d"
      },
      "execution_count": 30,
      "outputs": [
        {
          "output_type": "stream",
          "name": "stdout",
          "text": [
            "❌ Column structure is still not right. Please check which row has headers.\n"
          ]
        }
      ]
    },
    {
      "cell_type": "markdown",
      "source": [
        "STEP 3 – Merge Production Into Grain Dataset"
      ],
      "metadata": {
        "id": "OfaecxrNyOj_"
      }
    },
    {
      "cell_type": "code",
      "source": [
        "# Add a dummy production volume by crop year (example values)\n",
        "production_by_year = {\n",
        "    \"2022-2023\": 12300000,\n",
        "    \"2023-2024\": 11800000,\n",
        "    \"2024-2025\": 12550000\n",
        "}\n",
        "\n",
        "# Add to df\n",
        "df[\"production_volume\"] = df[\"crop_year\"].map(production_by_year)\n",
        "df[\"production_volume\"].fillna(method=\"ffill\", inplace=True)\n",
        "df.fillna(0, inplace=True)"
      ],
      "metadata": {
        "colab": {
          "base_uri": "https://localhost:8080/"
        },
        "id": "YW9A4hIG3iN_",
        "outputId": "9d59c7cc-c7ca-4379-a359-634e1a59833e"
      },
      "execution_count": 37,
      "outputs": [
        {
          "output_type": "stream",
          "name": "stderr",
          "text": [
            "<ipython-input-37-6cf8bcd4fbaa>:10: FutureWarning: A value is trying to be set on a copy of a DataFrame or Series through chained assignment using an inplace method.\n",
            "The behavior will change in pandas 3.0. This inplace method will never work because the intermediate object on which we are setting values always behaves as a copy.\n",
            "\n",
            "For example, when doing 'df[col].method(value, inplace=True)', try using 'df.method({col: value}, inplace=True)' or df[col] = df[col].method(value) instead, to perform the operation inplace on the original object.\n",
            "\n",
            "\n",
            "  df[\"production_volume\"].fillna(method=\"ffill\", inplace=True)\n",
            "<ipython-input-37-6cf8bcd4fbaa>:10: FutureWarning: Series.fillna with 'method' is deprecated and will raise in a future version. Use obj.ffill() or obj.bfill() instead.\n",
            "  df[\"production_volume\"].fillna(method=\"ffill\", inplace=True)\n"
          ]
        }
      ]
    },
    {
      "source": [
        "# Try loading from line 7 where real data likely starts\n",
        "prod_df = pd.read_csv(\"/content/3210001401-eng.csv\", skiprows=7)\n",
        "\n",
        "# Print the first few rows of the DataFrame to inspect the data\n",
        "print(prod_df.head())\n",
        "\n",
        "# Instead of manually stripping, let's try to auto-detect the header\n",
        "# This might fix issues with unexpected spaces or characters in column names\n",
        "prod_df = pd.read_csv(\"/content/3210001401-eng.csv\", skiprows=7, header=None)\n",
        "prod_df.columns = prod_df.iloc[0]  # Set the first row as headers\n",
        "prod_df = prod_df[1:]  # Remove the header row from data\n",
        "\n",
        "# Confirm column names after auto-detection\n",
        "print(\"✅ Columns:\", prod_df.columns.tolist())\n"
      ],
      "cell_type": "code",
      "metadata": {
        "colab": {
          "base_uri": "https://localhost:8080/"
        },
        "id": "uS_5BwMp4GjL",
        "outputId": "4ba165f4-917f-4e6c-af92-1847c5ac3df3"
      },
      "execution_count": 46,
      "outputs": [
        {
          "output_type": "stream",
          "name": "stdout",
          "text": [
            "                        Geography       Canada 1     Unnamed: 2  Unnamed: 3  \\\n",
            "0  Supply and disposition of corn    August 2023  December 2023  March 2024   \n",
            "1                             NaN  Metric tonnes            NaN         NaN   \n",
            "2                  Total supplies       19,511.9       18,283.9    19,062.1   \n",
            "3          Total beginning stocks        2,745.6        1,627.5     1,627.5   \n",
            "4       Beginning stocks on farms        1,584.4          894.7       894.7   \n",
            "\n",
            "    Unnamed: 4     Unnamed: 5  \n",
            "0  August 2024  December 2024  \n",
            "1          NaN            NaN  \n",
            "2     20,027.3       17,934.8  \n",
            "3      1,627.5        1,996.4  \n",
            "4        894.7        1,037.5  \n",
            "✅ Columns: ['Geography', 'Canada 1', nan, nan, nan, nan]\n"
          ]
        }
      ]
    },
    {
      "cell_type": "code",
      "source": [
        "# STEP 3 – Load and merge production volume (robust + safe)\n",
        "production_by_year = {\n",
        "    \"2022-2023\": 12300000,\n",
        "    \"2023-2024\": 11800000,\n",
        "    \"2024-2025\": 12550000\n",
        "}\n",
        "\n",
        "try:\n",
        "    # Load raw CSV, skip metadata\n",
        "    raw = pd.read_csv(\"/content/3210001401-eng.csv\", skiprows=7, header=None)\n",
        "\n",
        "    # Set header from first row\n",
        "    raw.columns = raw.iloc[0]\n",
        "    prod_df = raw[1:].copy()  # drop header row\n",
        "    prod_df.columns = [str(col).strip() for col in prod_df.columns]\n",
        "\n",
        "    # Check for known column structure\n",
        "    expected_columns = prod_df.columns.tolist()\n",
        "    print(\"🔍 Available columns in production file:\", expected_columns[:6])\n",
        "\n",
        "    # Try to match by position if names are unclear\n",
        "    geo_col = expected_columns[0]    # e.g., Geography\n",
        "    crop_col = expected_columns[2]   # e.g., Crop\n",
        "    year_col = expected_columns[3]   # e.g., Crop year\n",
        "    value_col = expected_columns[5]  # e.g., Production (tonnes)\n",
        "\n",
        "    # Filter only \"Ontario\" and \"Corn for grain\"\n",
        "    filtered = prod_df[\n",
        "        (prod_df[geo_col].astype(str).str.strip() == \"Ontario\") &\n",
        "        (prod_df[crop_col].astype(str).str.strip() == \"Corn for grain\")\n",
        "    ][[year_col, value_col]]\n",
        "\n",
        "    # Rename + clean\n",
        "    filtered.columns = [\"crop_year\", \"production_volume\"]\n",
        "    filtered[\"crop_year\"] = filtered[\"crop_year\"].astype(str)\n",
        "    filtered[\"production_volume\"] = (\n",
        "        filtered[\"production_volume\"]\n",
        "        .astype(str)\n",
        "        .str.replace(\",\", \"\")\n",
        "        .astype(float)\n",
        "    )\n",
        "\n",
        "    # Merge with main DataFrame\n",
        "    df = df.merge(filtered, on=\"crop_year\", how=\"left\")\n",
        "    print(\"✅ Merged production data successfully.\")\n",
        "\n",
        "except Exception as e:\n",
        "    print(\"⚠️ Real production file failed. Using dummy values.\")\n",
        "    print(\"Error:\", e)\n",
        "\n",
        "    # Fallback dummy values\n",
        "    df[\"production_volume\"] = df[\"crop_year\"].map(production_by_year)\n",
        "\n",
        "# Clean missing values\n",
        "df[\"production_volume\"] = df[\"production_volume\"].ffill()\n",
        "df = df.fillna(0)\n"
      ],
      "metadata": {
        "colab": {
          "base_uri": "https://localhost:8080/"
        },
        "id": "zbVQoQ1v7IjQ",
        "outputId": "1ee10403-7d34-4e71-ab59-f42db2a9f9e1"
      },
      "execution_count": 69,
      "outputs": [
        {
          "output_type": "stream",
          "name": "stdout",
          "text": [
            "🔍 Available columns in production file: ['Geography', 'Canada 1', 'nan', 'nan', 'nan', 'nan']\n",
            "⚠️ Real production file failed. Using dummy values.\n",
            "Error: 'DataFrame' object has no attribute 'str'\n"
          ]
        }
      ]
    },
    {
      "cell_type": "code",
      "source": [
        "# FINAL fallback for production data – dummy only\n",
        "production_by_year = {\n",
        "    \"2022-2023\": 12300000,\n",
        "    \"2023-2024\": 11800000,\n",
        "    \"2024-2025\": 12550000\n",
        "}\n",
        "\n",
        "df[\"production_volume\"] = df[\"crop_year\"].map(production_by_year)\n",
        "df[\"production_volume\"] = df[\"production_volume\"].ffill()\n",
        "df = df.fillna(0)\n",
        "\n",
        "print(\"✅ Using hardcoded production volume values.\")\n"
      ],
      "metadata": {
        "colab": {
          "base_uri": "https://localhost:8080/"
        },
        "id": "lXjn08xG7aSn",
        "outputId": "9e1a0c6f-b792-4b07-9456-f21d3229daad"
      },
      "execution_count": 70,
      "outputs": [
        {
          "output_type": "stream",
          "name": "stdout",
          "text": [
            "✅ Using hardcoded production volume values.\n"
          ]
        }
      ]
    },
    {
      "cell_type": "code",
      "source": [
        "# Save the final working dataset to CSV\n",
        "output_path = \"/content/corn_bay_lakes_final_with_production.csv\"\n",
        "df.to_csv(output_path, index=False)\n",
        "print(f\"✅ Dataset saved: {output_path}\")"
      ],
      "metadata": {
        "colab": {
          "base_uri": "https://localhost:8080/"
        },
        "id": "b_N8wdzP7npA",
        "outputId": "261baf8c-3a7c-4680-be78-af3fba1d7f20"
      },
      "execution_count": 72,
      "outputs": [
        {
          "output_type": "stream",
          "name": "stdout",
          "text": [
            "✅ Dataset saved: /content/corn_bay_lakes_final_with_production.csv\n"
          ]
        }
      ]
    },
    {
      "cell_type": "markdown",
      "source": [
        " STEP 4 – Normalize and Create LSTM Sequences"
      ],
      "metadata": {
        "id": "TCE5wpqo8NkS"
      }
    },
    {
      "cell_type": "code",
      "source": [
        "from sklearn.preprocessing import MinMaxScaler\n",
        "import numpy as np\n",
        "\n",
        "# Define features to use (must be present in your df)\n",
        "feature_cols = [\"Ktonnes\", \"GW_sin\", \"GW_cos\", \"production_volume\", \"rain_mm\", \"temp_avg\"]\n",
        "\n",
        "# Scale all features\n",
        "scaler = MinMaxScaler()\n",
        "scaled_data = scaler.fit_transform(df[feature_cols])\n",
        "\n",
        "# Create sequences for LSTM (sliding window approach)\n",
        "def create_sequences(data, window_size=8):\n",
        "    X, y = [], []\n",
        "    for i in range(len(data) - window_size):\n",
        "        X.append(data[i:i+window_size])\n",
        "        y.append(data[i+window_size][0])  # Predicting Ktonnes only\n",
        "    return np.array(X), np.array(y)\n",
        "\n",
        "X, y = create_sequences(scaled_data, window_size=8)\n",
        "\n",
        "# Split into training and testing sets (80/20)\n",
        "split_idx = int(len(X) * 0.8)\n",
        "X_train, X_test = X[:split_idx], X[split_idx:]\n",
        "y_train, y_test = y[:split_idx], y[split_idx:]\n",
        "\n",
        "print(\"✅ STEP 4 complete — sequences created and data split.\")\n"
      ],
      "metadata": {
        "colab": {
          "base_uri": "https://localhost:8080/"
        },
        "id": "Ugcq5kUh8PK4",
        "outputId": "2b1d4909-442d-4ffa-c631-938f70868846"
      },
      "execution_count": 73,
      "outputs": [
        {
          "output_type": "stream",
          "name": "stdout",
          "text": [
            "✅ STEP 4 complete — sequences created and data split.\n"
          ]
        }
      ]
    },
    {
      "cell_type": "markdown",
      "source": [
        "STEP 5 – Build and Train the LSTM Model"
      ],
      "metadata": {
        "id": "XlSRdERe8SGo"
      }
    },
    {
      "cell_type": "code",
      "source": [
        "from tensorflow.keras.models import Sequential\n",
        "from tensorflow.keras.layers import LSTM, Dense, Dropout\n",
        "from tensorflow.keras.callbacks import EarlyStopping\n",
        "\n",
        "# Define LSTM model\n",
        "model = Sequential([\n",
        "    LSTM(64, return_sequences=True, input_shape=(X.shape[1], X.shape[2])),\n",
        "    Dropout(0.2),\n",
        "    LSTM(32),\n",
        "    Dropout(0.2),\n",
        "    Dense(1)\n",
        "])\n",
        "\n",
        "model.compile(optimizer=\"adam\", loss=\"mse\")\n",
        "\n",
        "# Train model\n",
        "history = model.fit(\n",
        "    X_train, y_train,\n",
        "    epochs=50,\n",
        "    batch_size=16,\n",
        "    validation_data=(X_test, y_test),\n",
        "    callbacks=[EarlyStopping(patience=5, restore_best_weights=True)],\n",
        "    verbose=1\n",
        ")\n",
        "\n",
        "print(\"✅ STEP 5 complete — model trained.\")"
      ],
      "metadata": {
        "colab": {
          "base_uri": "https://localhost:8080/"
        },
        "id": "wr6wFE7P8TuI",
        "outputId": "81e65c3b-a55c-4e37-bd67-71a39ac871fb"
      },
      "execution_count": 74,
      "outputs": [
        {
          "output_type": "stream",
          "name": "stdout",
          "text": [
            "Epoch 1/50\n"
          ]
        },
        {
          "output_type": "stream",
          "name": "stderr",
          "text": [
            "/usr/local/lib/python3.11/dist-packages/keras/src/layers/rnn/rnn.py:200: UserWarning: Do not pass an `input_shape`/`input_dim` argument to a layer. When using Sequential models, prefer using an `Input(shape)` object as the first layer in the model instead.\n",
            "  super().__init__(**kwargs)\n"
          ]
        },
        {
          "output_type": "stream",
          "name": "stdout",
          "text": [
            "\u001b[1m2/2\u001b[0m \u001b[32m━━━━━━━━━━━━━━━━━━━━\u001b[0m\u001b[37m\u001b[0m \u001b[1m5s\u001b[0m 586ms/step - loss: 0.1415 - val_loss: 0.0343\n",
            "Epoch 2/50\n",
            "\u001b[1m2/2\u001b[0m \u001b[32m━━━━━━━━━━━━━━━━━━━━\u001b[0m\u001b[37m\u001b[0m \u001b[1m1s\u001b[0m 75ms/step - loss: 0.0949 - val_loss: 0.0538\n",
            "Epoch 3/50\n",
            "\u001b[1m2/2\u001b[0m \u001b[32m━━━━━━━━━━━━━━━━━━━━\u001b[0m\u001b[37m\u001b[0m \u001b[1m0s\u001b[0m 74ms/step - loss: 0.0801 - val_loss: 0.0676\n",
            "Epoch 4/50\n",
            "\u001b[1m2/2\u001b[0m \u001b[32m━━━━━━━━━━━━━━━━━━━━\u001b[0m\u001b[37m\u001b[0m \u001b[1m0s\u001b[0m 77ms/step - loss: 0.1094 - val_loss: 0.0554\n",
            "Epoch 5/50\n",
            "\u001b[1m2/2\u001b[0m \u001b[32m━━━━━━━━━━━━━━━━━━━━\u001b[0m\u001b[37m\u001b[0m \u001b[1m0s\u001b[0m 77ms/step - loss: 0.0881 - val_loss: 0.0445\n",
            "Epoch 6/50\n",
            "\u001b[1m2/2\u001b[0m \u001b[32m━━━━━━━━━━━━━━━━━━━━\u001b[0m\u001b[37m\u001b[0m \u001b[1m0s\u001b[0m 76ms/step - loss: 0.0841 - val_loss: 0.0400\n",
            "✅ STEP 5 complete — model trained.\n"
          ]
        }
      ]
    },
    {
      "cell_type": "markdown",
      "source": [
        "STEP 6 – Predict, Inverse Transform, and Plot"
      ],
      "metadata": {
        "id": "GYL7tZzg8cjX"
      }
    },
    {
      "cell_type": "code",
      "source": [
        "import matplotlib.pyplot as plt\n",
        "from sklearn.metrics import mean_squared_error\n",
        "\n",
        "# Helper to inverse transform predicted Ktonnes only\n",
        "def inverse_ktonnes(scaled_values):\n",
        "    dummy = np.zeros((len(scaled_values), len(feature_cols)))\n",
        "    dummy[:, 0] = scaled_values  # Put Ktonnes in first column\n",
        "    return scaler.inverse_transform(dummy)[:, 0]  # Return only Ktonnes\n",
        "\n",
        "# Predict and inverse transform\n",
        "y_pred_scaled = model.predict(X_test)\n",
        "y_pred_rescaled = inverse_ktonnes(y_pred_scaled.flatten())\n",
        "y_test_rescaled = inverse_ktonnes(y_test.flatten())\n",
        "\n",
        "# Plot actual vs predicted\n",
        "plt.figure(figsize=(10, 5))\n",
        "plt.plot(y_test_rescaled, label=\"Actual\", linewidth=2)\n",
        "plt.plot(y_pred_rescaled, label=\"Predicted\", linestyle=\"--\")\n",
        "plt.title(\"🌽 LSTM Forecast – Corn Bay & Lakes (Production + Weather)\")\n",
        "plt.xlabel(\"Weeks\")\n",
        "plt.ylabel(\"Ktonnes\")\n",
        "plt.legend()\n",
        "plt.tight_layout()\n",
        "plt.show()\n",
        "\n",
        "# Evaluate model performance\n",
        "rmse = np.sqrt(mean_squared_error(y_test_rescaled, y_pred_rescaled))\n",
        "print(f\"✅ STEP 6 complete — RMSE: {rmse:.2f} Ktonnes\")"
      ],
      "metadata": {
        "colab": {
          "base_uri": "https://localhost:8080/",
          "height": 631
        },
        "id": "DoysrTAP8bRg",
        "outputId": "a6ed6ebd-4e0f-4a0a-ef10-899e4cd3c47e"
      },
      "execution_count": 75,
      "outputs": [
        {
          "output_type": "stream",
          "name": "stdout",
          "text": [
            "\u001b[1m1/1\u001b[0m \u001b[32m━━━━━━━━━━━━━━━━━━━━\u001b[0m\u001b[37m\u001b[0m \u001b[1m1s\u001b[0m 786ms/step\n"
          ]
        },
        {
          "output_type": "stream",
          "name": "stderr",
          "text": [
            "<ipython-input-75-256ad0b725af>:23: UserWarning: Glyph 127805 (\\N{EAR OF MAIZE}) missing from font(s) DejaVu Sans.\n",
            "  plt.tight_layout()\n",
            "/usr/local/lib/python3.11/dist-packages/IPython/core/pylabtools.py:151: UserWarning: Glyph 127805 (\\N{EAR OF MAIZE}) missing from font(s) DejaVu Sans.\n",
            "  fig.canvas.print_figure(bytes_io, **kw)\n"
          ]
        },
        {
          "output_type": "display_data",
          "data": {
            "text/plain": [
              "<Figure size 1000x500 with 1 Axes>"
            ],
            "image/png": "[encoded data removed]"
          },
          "metadata": {}
        },
        {
          "output_type": "stream",
          "name": "stdout",
          "text": [
            "✅ STEP 6 complete — RMSE: 318.24 Ktonnes\n"
          ]
        }
      ]
    }
  ]
}